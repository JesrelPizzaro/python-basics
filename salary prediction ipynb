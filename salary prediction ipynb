{
 "cells": [
  {
   "cell_type": "markdown",
   "metadata": {},
   "source": [
    "# Salary Prediction with Flask\n",
    "\n",
    "In this notebook, we'll create a Flask application for predicting salaries based on years of experience, education level, and job title."
   ]
  },
  {
   "cell_type": "code",
   "execution_count": 1,
   "metadata": {},
   "outputs": [],
   "source": [
    "# Importing necessary libraries\n",
    "import joblib\n",
    "from flask import Flask, request, jsonify"
   ]
  },
  {
   "cell_type": "code",
   "execution_count": 2,
   "metadata": {},
   "outputs": [],
   "source": [
    "# Load the pre-trained model\n",
    "model = joblib.load('salary_prediction_model.pkl')"
   ]
  },
  {
   "cell_type": "code",
   "execution_count": 3,
   "metadata": {},
   "outputs": [],
   "source": [
    "# Initialize Flask\n",
    "app = Flask(__name__)"
   ]
  },
  {
   "cell_type": "code",
   "execution_count": 4,
   "metadata": {},
   "outputs": [],
   "source": [
    "# Define route for salary prediction\n",
    "@app.route('/predict', methods=['POST'])\n",
    "def predict_salary():\n",
    "    data = request.get_json()\n",
    "    years_of_experience = data['years_of_experience']\n",
    "    education_level = data['education_level']\n",
    "    job_title = data['job_title']\n",
    "\n",
    "    # Make prediction\n",
    "    input_features = [[years_of_experience, education_level, job_title]]\n",
    "    predicted_salary = model.predict(input_features)\n",
    "\n",
    "    return jsonify({'predicted_salary': predicted_salary[0]})"
   ]
  },
  {
   "cell_type": "code",
   "execution_count": null,
   "metadata": {},
   "outputs": [],
   "source": []
  },
  {
   "cell_type": "code",
   "execution_count": null,
   "metadata": {},
   "outputs": [],
   "source": [
    "# Run the Flask app\n",
    "if __name__ == '__main__':\n",
    "    app.run(debug=True)"
   ]
  }
 ],
 "metadata": {
  "kernelspec": {
   "display_name": "Python 3",
   "language": "python",
   "name": "python3"
  },
  "la
